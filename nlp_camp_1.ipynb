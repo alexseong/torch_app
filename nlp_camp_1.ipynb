{
 "cells": [
  {
   "cell_type": "code",
   "execution_count": 1,
   "metadata": {},
   "outputs": [],
   "source": [
    "import torch\n",
    "import torch.nn as nn\n",
    "import random\n",
    "import numpy as np"
   ]
  },
  {
   "cell_type": "code",
   "execution_count": 2,
   "metadata": {},
   "outputs": [],
   "source": [
    "x = torch.FloatTensor(2, 2)\n",
    "W = torch.FloatTensor(2, 2)\n",
    "b = torch.FloatTensor(2)\n",
    "y = torch.FloatTensor(2, 2)"
   ]
  },
  {
   "cell_type": "code",
   "execution_count": 35,
   "metadata": {},
   "outputs": [
    {
     "data": {
      "text/plain": [
       "tensor([[0.0000e+00, 0.0000e+00],\n",
       "        [2.0319e-43, 0.0000e+00]], requires_grad=True)"
      ]
     },
     "execution_count": 35,
     "metadata": {},
     "output_type": "execute_result"
    }
   ],
   "source": [
    "y.requires_grad_(True)"
   ]
  },
  {
   "cell_type": "code",
   "execution_count": 36,
   "metadata": {},
   "outputs": [],
   "source": [
    "z = (x + y) + torch.FloatTensor(2, 2)"
   ]
  },
  {
   "cell_type": "code",
   "execution_count": 37,
   "metadata": {},
   "outputs": [],
   "source": [
    "with torch.no_grad():\n",
    "    z = (x + y) + torch.FloatTensor(2, 2)"
   ]
  },
  {
   "cell_type": "code",
   "execution_count": 38,
   "metadata": {},
   "outputs": [],
   "source": [
    "def linear(x, W, b):\n",
    "    y = torch.mm(x, W) + b\n",
    "    return y"
   ]
  },
  {
   "cell_type": "code",
   "execution_count": 39,
   "metadata": {},
   "outputs": [],
   "source": [
    "y  = linear(x, W, b)"
   ]
  },
  {
   "cell_type": "code",
   "execution_count": 5,
   "metadata": {},
   "outputs": [],
   "source": [
    "class MyLinear(nn.Module):\n",
    "    def __init__(self, input_size, output_size):\n",
    "        super().__init__()\n",
    "        \n",
    "        self.W = nn.Parameter(torch.FloatTensor(input_size, output_size), requires_grad=True)\n",
    "        self.b = nn.Parameter(torch.FloatTensor(output_size), requires_grad=True)\n",
    "        \n",
    "    def forward(self, x):\n",
    "        y = torch.mm(x, self.W) + self.b\n",
    "        \n",
    "        return y"
   ]
  },
  {
   "cell_type": "code",
   "execution_count": 59,
   "metadata": {},
   "outputs": [],
   "source": [
    "class MyLinear(nn.Module):\n",
    "    def __init__(self, input_size, output_size):\n",
    "        super(MyLinear, self).__init__()\n",
    "        \n",
    "        self.linear = nn.Linear(input_size, output_size)\n",
    "        \n",
    "    def forward(self, x):\n",
    "        y = self.linear(x)\n",
    "        \n",
    "        return y"
   ]
  },
  {
   "cell_type": "code",
   "execution_count": 13,
   "metadata": {},
   "outputs": [],
   "source": [
    "x = torch.FloatTensor(16, 10)"
   ]
  },
  {
   "cell_type": "code",
   "execution_count": 14,
   "metadata": {},
   "outputs": [],
   "source": [
    "linear = MyLinear(10, 5)\n",
    "y = linear.forward(x)"
   ]
  },
  {
   "cell_type": "code",
   "execution_count": 15,
   "metadata": {},
   "outputs": [],
   "source": [
    "params = [p.size() for p in linear.parameters()]"
   ]
  },
  {
   "cell_type": "code",
   "execution_count": 16,
   "metadata": {},
   "outputs": [
    {
     "data": {
      "text/plain": [
       "[torch.Size([5, 10]), torch.Size([5])]"
      ]
     },
     "execution_count": 16,
     "metadata": {},
     "output_type": "execute_result"
    }
   ],
   "source": [
    "params"
   ]
  },
  {
   "cell_type": "code",
   "execution_count": 17,
   "metadata": {},
   "outputs": [
    {
     "name": "stdout",
     "output_type": "stream",
     "text": [
      "MyLinear(\n",
      "  (linear): Linear(in_features=10, out_features=5, bias=True)\n",
      ")\n"
     ]
    }
   ],
   "source": [
    "print(linear)"
   ]
  },
  {
   "cell_type": "code",
   "execution_count": 24,
   "metadata": {},
   "outputs": [],
   "source": [
    "y = linear(x)"
   ]
  },
  {
   "cell_type": "code",
   "execution_count": 20,
   "metadata": {},
   "outputs": [],
   "source": [
    "objective = 100"
   ]
  },
  {
   "cell_type": "code",
   "execution_count": 23,
   "metadata": {},
   "outputs": [
    {
     "data": {
      "text/plain": [
       "MyLinear(\n",
       "  (linear): Linear(in_features=10, out_features=5, bias=True)\n",
       ")"
      ]
     },
     "execution_count": 23,
     "metadata": {},
     "output_type": "execute_result"
    }
   ],
   "source": [
    "linear"
   ]
  },
  {
   "cell_type": "code",
   "execution_count": 27,
   "metadata": {},
   "outputs": [
    {
     "data": {
      "text/plain": [
       "tensor(-3.2275e+13, grad_fn=<SumBackward0>)"
      ]
     },
     "execution_count": 27,
     "metadata": {},
     "output_type": "execute_result"
    }
   ],
   "source": [
    "y.sum()"
   ]
  },
  {
   "cell_type": "code",
   "execution_count": 30,
   "metadata": {},
   "outputs": [],
   "source": [
    "loss = (objective - y.sum())**2"
   ]
  },
  {
   "cell_type": "code",
   "execution_count": 31,
   "metadata": {},
   "outputs": [
    {
     "data": {
      "text/plain": [
       "tensor(1.0417e+27, grad_fn=<PowBackward0>)"
      ]
     },
     "execution_count": 31,
     "metadata": {},
     "output_type": "execute_result"
    }
   ],
   "source": [
    "loss"
   ]
  },
  {
   "cell_type": "code",
   "execution_count": 32,
   "metadata": {},
   "outputs": [],
   "source": [
    "loss.backward()"
   ]
  },
  {
   "cell_type": "code",
   "execution_count": 33,
   "metadata": {},
   "outputs": [
    {
     "data": {
      "text/plain": [
       "tensor(1.0417e+27, grad_fn=<PowBackward0>)"
      ]
     },
     "execution_count": 33,
     "metadata": {},
     "output_type": "execute_result"
    }
   ],
   "source": [
    "loss"
   ]
  },
  {
   "cell_type": "code",
   "execution_count": 44,
   "metadata": {},
   "outputs": [],
   "source": [
    "class MyModel(nn.Module):\n",
    "    def __init__(self, input_size, output_size):\n",
    "        super(MyModel, self).__init__()\n",
    "        \n",
    "        self.liner = nn.Linear(input_size, output_size)\n",
    "    \n",
    "    def forward(self, x):\n",
    "        y = self.liner(x)\n",
    "        \n",
    "        return y"
   ]
  },
  {
   "cell_type": "code",
   "execution_count": 45,
   "metadata": {},
   "outputs": [],
   "source": [
    "def ground_truth(x):\n",
    "    return 3 * x[:, 0] + x[:, 1] -2 * x[:, 2]"
   ]
  },
  {
   "cell_type": "code",
   "execution_count": 46,
   "metadata": {},
   "outputs": [
    {
     "data": {
      "text/plain": [
       "array([12, 31,  4, 21, 10, 14, -2, 15,  9, 30])"
      ]
     },
     "execution_count": 46,
     "metadata": {},
     "output_type": "execute_result"
    }
   ],
   "source": [
    "in_val = np.array([[random.randint(0, 10), random.randint(0, 10), random.randint(0, 10)]])\n",
    "for i in range(9):\n",
    "    x = [random.randint(0, 10), random.randint(0, 10), random.randint(0, 10)]\n",
    "    in_val = np.append(in_val, [x], axis=0)\n",
    "    \n",
    "ground_truth(in_val)"
   ]
  },
  {
   "cell_type": "code",
   "execution_count": 50,
   "metadata": {},
   "outputs": [],
   "source": [
    "def train(model, x, y, optim):\n",
    "    optim.zero_grad()\n",
    "    \n",
    "    y_hat = model(x)\n",
    "    loss = ((y - y_hat) ** 2).sum() / x.size(0)\n",
    "    \n",
    "    loss.backward()    \n",
    "    optim.step()\n",
    "    \n",
    "    return loss.data"
   ]
  },
  {
   "cell_type": "code",
   "execution_count": 67,
   "metadata": {},
   "outputs": [
    {
     "name": "stdout",
     "output_type": "stream",
     "text": [
      "MyModel(\n",
      "  (liner): Linear(in_features=3, out_features=1, bias=True)\n",
      ")\n"
     ]
    }
   ],
   "source": [
    "batch_size = 1\n",
    "n_epochs = 1000\n",
    "n_iter = 10000\n",
    "\n",
    "model = MyModel(3,1)\n",
    "#model.cuda()\n",
    "optim = torch.optim.SGD(model.parameters(), lr=1e-4, momentum=0.1)\n",
    "\n",
    "print(model)"
   ]
  },
  {
   "cell_type": "code",
   "execution_count": 68,
   "metadata": {},
   "outputs": [
    {
     "name": "stdout",
     "output_type": "stream",
     "text": [
      "tensor(0.9469) tensor(0.9000) tensor(0.8852) [Parameter containing:\n",
      "tensor([[ 0.6725,  0.4785, -0.4556]], requires_grad=True), Parameter containing:\n",
      "tensor([0.6333], requires_grad=True)]\n",
      "tensor(0.5588) tensor(0.9000) tensor(0.9508) [Parameter containing:\n",
      "tensor([[ 1.0469,  0.5503, -0.7289]], requires_grad=True), Parameter containing:\n",
      "tensor([0.5995], requires_grad=True)]\n",
      "tensor(0.3937) tensor(0.9000) tensor(0.9757) [Parameter containing:\n",
      "tensor([[ 1.3516,  0.6021, -0.9663]], requires_grad=True), Parameter containing:\n",
      "tensor([0.5464], requires_grad=True)]\n",
      "tensor(0.2847) tensor(0.9000) tensor(0.9761) [Parameter containing:\n",
      "tensor([[ 1.6077,  0.6458, -1.1746]], requires_grad=True), Parameter containing:\n",
      "tensor([0.4821], requires_grad=True)]\n",
      "tensor(0.1924) tensor(0.9000) tensor(0.9853) [Parameter containing:\n",
      "tensor([[ 1.8199,  0.6902, -1.3330]], requires_grad=True), Parameter containing:\n",
      "tensor([0.4346], requires_grad=True)]\n",
      "tensor(0.1360) tensor(0.9000) tensor(0.9922) [Parameter containing:\n",
      "tensor([[ 1.9987,  0.7264, -1.4659]], requires_grad=True), Parameter containing:\n",
      "tensor([0.3940], requires_grad=True)]\n",
      "tensor(0.0961) tensor(0.9000) tensor(0.9947) [Parameter containing:\n",
      "tensor([[ 2.1505,  0.7550, -1.5727]], requires_grad=True), Parameter containing:\n",
      "tensor([0.3558], requires_grad=True)]\n",
      "tensor(0.0684) tensor(0.9000) tensor(0.9908) [Parameter containing:\n",
      "tensor([[ 2.2769,  0.7794, -1.6619]], requires_grad=True), Parameter containing:\n",
      "tensor([0.3181], requires_grad=True)]\n",
      "tensor(0.0489) tensor(0.9000) tensor(0.9886) [Parameter containing:\n",
      "tensor([[ 2.3855,  0.8007, -1.7348]], requires_grad=True), Parameter containing:\n",
      "tensor([0.2863], requires_grad=True)]\n",
      "tensor(0.0346) tensor(0.9000) tensor(0.9873) [Parameter containing:\n",
      "tensor([[ 2.4767,  0.8214, -1.7931]], requires_grad=True), Parameter containing:\n",
      "tensor([0.2593], requires_grad=True)]\n",
      "tensor(0.0250) tensor(0.9000) tensor(0.9842) [Parameter containing:\n",
      "tensor([[ 2.5538,  0.8404, -1.8408]], requires_grad=True), Parameter containing:\n",
      "tensor([0.2341], requires_grad=True)]\n",
      "tensor(0.0179) tensor(0.9000) tensor(0.9808) [Parameter containing:\n",
      "tensor([[ 2.6189,  0.8570, -1.8782]], requires_grad=True), Parameter containing:\n",
      "tensor([0.2115], requires_grad=True)]\n",
      "tensor(0.0130) tensor(0.9000) tensor(0.9768) [Parameter containing:\n",
      "tensor([[ 2.6744,  0.8718, -1.9084]], requires_grad=True), Parameter containing:\n",
      "tensor([0.1910], requires_grad=True)]\n",
      "tensor(0.0095) tensor(0.9000) tensor(0.9703) [Parameter containing:\n",
      "tensor([[ 2.7203,  0.8837, -1.9338]], requires_grad=True), Parameter containing:\n",
      "tensor([0.1709], requires_grad=True)]\n",
      "tensor(0.0070) tensor(0.9000) tensor(0.9668) [Parameter containing:\n",
      "tensor([[ 2.7602,  0.8972, -1.9523]], requires_grad=True), Parameter containing:\n",
      "tensor([0.1545], requires_grad=True)]\n",
      "tensor(0.0051) tensor(0.9000) tensor(0.9618) [Parameter containing:\n",
      "tensor([[ 2.7936,  0.9071, -1.9668]], requires_grad=True), Parameter containing:\n",
      "tensor([0.1389], requires_grad=True)]\n",
      "tensor(0.0038) tensor(0.9000) tensor(0.9585) [Parameter containing:\n",
      "tensor([[ 2.8224,  0.9167, -1.9780]], requires_grad=True), Parameter containing:\n",
      "tensor([0.1262], requires_grad=True)]\n",
      "tensor(0.0028) tensor(0.9000) tensor(0.9544) [Parameter containing:\n",
      "tensor([[ 2.8466,  0.9253, -1.9869]], requires_grad=True), Parameter containing:\n",
      "tensor([0.1140], requires_grad=True)]\n",
      "tensor(0.0022) tensor(0.9000) tensor(0.9490) [Parameter containing:\n",
      "tensor([[ 2.8671,  0.9325, -1.9948]], requires_grad=True), Parameter containing:\n",
      "tensor([0.1019], requires_grad=True)]\n",
      "tensor(0.0016) tensor(0.9000) tensor(0.9451) [Parameter containing:\n",
      "tensor([[ 2.8849,  0.9396, -2.0006]], requires_grad=True), Parameter containing:\n",
      "tensor([0.0918], requires_grad=True)]\n",
      "tensor(0.0013) tensor(0.9000) tensor(0.9427) [Parameter containing:\n",
      "tensor([[ 2.9007,  0.9463, -2.0044]], requires_grad=True), Parameter containing:\n",
      "tensor([0.0836], requires_grad=True)]\n",
      "tensor(0.0010) tensor(0.9000) tensor(0.9384) [Parameter containing:\n",
      "tensor([[ 2.9135,  0.9513, -2.0075]], requires_grad=True), Parameter containing:\n",
      "tensor([0.0748], requires_grad=True)]\n"
     ]
    }
   ],
   "source": [
    "for epoch in range(n_epochs):\n",
    "    avg_loss = 0\n",
    "    \n",
    "    for i in range(n_iter):\n",
    "        x = torch.rand(batch_size, 3)\n",
    "#        x = torch.cuda.FloatTensor(batch_size, 3).normal_()\n",
    "        y = ground_truth(x.data)\n",
    "        \n",
    "        loss = train(model, x, y, optim)\n",
    "        \n",
    "        avg_loss += loss\n",
    "    avg_loss /= n_iter\n",
    "    \n",
    "    x_valid = torch.FloatTensor([[.3, .2, .1]])\n",
    "    y_valid = ground_truth(x_valid.data)\n",
    "    \n",
    "    model.eval()\n",
    "    y_hat = model(x_valid)\n",
    "    model.train()\n",
    "    \n",
    "    print(avg_loss, y_valid.data[0], y_hat.data[0, 0], [p for p in model.parameters()])\n",
    "    \n",
    "    if avg_loss < 0.001:\n",
    "        break"
   ]
  },
  {
   "cell_type": "code",
   "execution_count": 58,
   "metadata": {},
   "outputs": [],
   "source": [
    "x = torch.cuda.FloatTensor(16, 10)"
   ]
  },
  {
   "cell_type": "code",
   "execution_count": 28,
   "metadata": {},
   "outputs": [
    {
     "data": {
      "text/plain": [
       "(10, 3)"
      ]
     },
     "execution_count": 28,
     "metadata": {},
     "output_type": "execute_result"
    }
   ],
   "source": [
    "np.array(in_val).shape"
   ]
  },
  {
   "cell_type": "code",
   "execution_count": 60,
   "metadata": {},
   "outputs": [],
   "source": [
    "linear = MyLinear(10, 5)"
   ]
  },
  {
   "cell_type": "code",
   "execution_count": 61,
   "metadata": {},
   "outputs": [
    {
     "data": {
      "text/plain": [
       "MyLinear(\n",
       "  (linear): Linear(in_features=10, out_features=5, bias=True)\n",
       ")"
      ]
     },
     "execution_count": 61,
     "metadata": {},
     "output_type": "execute_result"
    }
   ],
   "source": [
    "linear.cuda()"
   ]
  },
  {
   "cell_type": "code",
   "execution_count": 62,
   "metadata": {},
   "outputs": [],
   "source": [
    "y = linear(x)"
   ]
  },
  {
   "cell_type": "code",
   "execution_count": null,
   "metadata": {},
   "outputs": [],
   "source": []
  }
 ],
 "metadata": {
  "kernelspec": {
   "display_name": "Environment (conda_pytorch_p36)",
   "language": "python",
   "name": "conda_pytorch_p36"
  },
  "language_info": {
   "codemirror_mode": {
    "name": "ipython",
    "version": 3
   },
   "file_extension": ".py",
   "mimetype": "text/x-python",
   "name": "python",
   "nbconvert_exporter": "python",
   "pygments_lexer": "ipython3",
   "version": "3.6.5"
  }
 },
 "nbformat": 4,
 "nbformat_minor": 2
}
